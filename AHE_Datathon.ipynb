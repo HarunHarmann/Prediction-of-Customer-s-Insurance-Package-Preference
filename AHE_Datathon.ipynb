{
 "cells": [
  {
   "cell_type": "code",
   "execution_count": null,
   "id": "9c6e204e",
   "metadata": {},
   "outputs": [],
   "source": [
    "import numpy as np \n",
    "import pandas as pd\n",
    "import matplotlib.pyplot as plt\n",
    "from io import StringIO\n",
    "from statsmodels.tsa.arima.model import ARIMA\n",
    "from sklearn.preprocessing import OneHotEncoder\n",
    "from sklearn.metrics import f1_score\n",
    "from sklearn.model_selection import GridSearchCV\n",
    "from sklearn.metrics import make_scorer, roc_auc_score\n",
    "from xgboost import XGBClassifier\n",
    "from catboost import CatBoostClassifier"
   ]
  },
  {
   "cell_type": "code",
   "execution_count": null,
   "id": "e2a50d4f",
   "metadata": {
    "scrolled": true
   },
   "outputs": [],
   "source": [
    "path = \"D:\\\\Anadolu_Hayat_Datathon\\\\\"\n",
    "train_df=pd.read_csv(path+\"train.csv\")\n",
    "train_df"
   ]
  },
  {
   "cell_type": "code",
   "execution_count": null,
   "id": "adcb691e",
   "metadata": {},
   "outputs": [],
   "source": [
    "turn_to_nation = {1: 'TC Vatandaşı', 2: 'Mavi Kart',3:'Yabancı Uyruklu'}\n",
    "\n",
    "# Dönüşümün gerçekleştirilmesi\n",
    "train_df['PP_UYRUK'] = train_df['PP_UYRUK'].replace(turn_to_nation)"
   ]
  },
  {
   "cell_type": "code",
   "execution_count": null,
   "id": "07f924c8",
   "metadata": {},
   "outputs": [],
   "source": [
    "train_df['SORU_GELIR_CVP'] = train_df['SORU_GELIR_CVP'].str.replace(',', '.').astype(float)"
   ]
  },
  {
   "cell_type": "code",
   "execution_count": null,
   "id": "3e274f4c",
   "metadata": {},
   "outputs": [],
   "source": [
    "for col in train_df.columns:\n",
    "    print(col)\n",
    "    print(train_df[col].unique())"
   ]
  },
  {
   "cell_type": "code",
   "execution_count": null,
   "id": "e3ad85d8",
   "metadata": {},
   "outputs": [],
   "source": [
    "nan_counts = train_df.isna().sum()\n",
    "nan_counts[nan_counts > 0]"
   ]
  },
  {
   "cell_type": "code",
   "execution_count": null,
   "id": "2ad87d63",
   "metadata": {},
   "outputs": [],
   "source": [
    "train_df= train_df.drop(columns=[\"SON_AY_KATKI_MIKTARI\",\"SON_AY_KATKI_ADET\",\n",
    "                               \"SON_CEYREK_KATKI_MIKTARI\",\"SON_CEYREK_KATKI_ADET\",\n",
    "                               \"SON_SENE_KATKI_MIKTARI\",\"SON_SENE_KATKI_ADET\",\n",
    "                                \"SORU_YATIRIM_KARAKTERI_CVP\",\"SORU_YATIRIM_KARAKTERI_RG\"])"
   ]
  },
  {
   "cell_type": "markdown",
   "id": "af933653",
   "metadata": {},
   "source": [
    "### Yeni Sütun Oluşturma"
   ]
  },
  {
   "cell_type": "markdown",
   "id": "201b2526",
   "metadata": {},
   "source": [
    "#### Bölge Sütunu Oluşturma ( Plaka kodlarına göre)"
   ]
  },
  {
   "cell_type": "code",
   "execution_count": null,
   "id": "3bbd6490",
   "metadata": {},
   "outputs": [],
   "source": [
    "regions = {\n",
    "    \"Marmara \": [\"10\", \"11\", \"16\", \"17\", \"22\", \"34\", \"39\", \"41\", \"54\", \"59\", \"77\"],\n",
    "    \"Ege \": [\"3\", \"9\", \"20\", \"35\", \"43\", \"45\", \"48\", \"64\"],\n",
    "    \"Akdeniz \": [\"1\", \"7\", \"15\", \"31\", \"32\", \"33\", \"46\", \"80\"],\n",
    "    \"IA \": [\"6\", \"18\", \"26\", \"38\", \"40\", \"42\", \"50\", \"51\", \"58\", \"66\", \"68\", \"70\", \"71\"],\n",
    "    \"Karadeniz \": [\"5\", \"8\", \"14\", \"19\", \"28\", \"29\", \"37\", \"52\", \"53\", \"55\", \"57\", \"60\", \"61\", \"67\", \"69\", \"74\", \"78\", \"81\"],\n",
    "    \"DA \": [\"4\", \"12\", \"13\", \"23\", \"24\", \"25\", \"30\", \"36\", \"44\", \"49\", \"62\", \"65\", \"75\", \"76\"],\n",
    "    \"GA \": [\"2\", \"21\", \"27\", \"47\", \"56\", \"63\", \"72\", \"73\", \"79\"]\n",
    "};\n",
    "\n",
    "def find_region(il):\n",
    "    for region, plates in regions.items():\n",
    "        if(np.isnan(il)):\n",
    "            return None\n",
    "        elif str(int(il)) in plates:\n",
    "            return region\n",
    "    return None  # Eğer plaka hiçbir bölge ile eşleşmezse\n",
    "\n",
    "train_df['BOLGE'] = train_df['IL'].apply(find_region)"
   ]
  },
  {
   "cell_type": "code",
   "execution_count": null,
   "id": "13a6b0d0",
   "metadata": {},
   "outputs": [],
   "source": [
    "train_df[\"BOLGE\"].isna()"
   ]
  },
  {
   "cell_type": "markdown",
   "id": "c6a8d3c2",
   "metadata": {},
   "source": [
    "#### Yaş Grubu Sütunu Oluşturma"
   ]
  },
  {
   "cell_type": "code",
   "execution_count": null,
   "id": "fec7287b",
   "metadata": {
    "scrolled": true
   },
   "outputs": [],
   "source": [
    "age_groups = {\n",
    "    \"18-25\": list(range(18, 26)),\n",
    "    \"26-35\": list(range(26, 36)),\n",
    "    \"36-45\": list(range(36, 46)),\n",
    "    \"46-55\": list(range(46, 56)),\n",
    "    \"56-65\": list(range(56, 66)),\n",
    "    \"65+\": list(range(66, 120))  # Burada 120, yaş grubunun sonunu temsil eden bir tahmini maksimum yaş\n",
    "}\n",
    "\n",
    "def find_ageGroup(yas):\n",
    "    for group, ages in age_groups.items():\n",
    "        if (yas//12) <= max(ages):\n",
    "            return group\n",
    "    return None  # Eğer plaka hiçbir bölge ile eşleşmezse\n",
    "\n",
    "train_df['YAS_GRUBU'] = train_df['PP_YAS'].apply(find_ageGroup)"
   ]
  },
  {
   "cell_type": "markdown",
   "id": "7c9751f1",
   "metadata": {},
   "source": [
    "#### Vade Tutarı İle İlgili İşlemler"
   ]
  },
  {
   "cell_type": "code",
   "execution_count": null,
   "id": "85edb150",
   "metadata": {},
   "outputs": [],
   "source": [
    "def findVadeOrtalama(dfs):\n",
    "    vade_sutunlari = [f'VADE_TUTAR_{i}' for i in range(12)]\n",
    "\n",
    "    # Sadece vade tutarlarını içeren sütunları al\n",
    "    vade_tutarlari = dfs[vade_sutunlari]\n",
    "\n",
    "    # Satır bazında ortalamayı al ve yeni bir sütun oluştur\n",
    "    dfs['VADE_ORTALAMASI'] = vade_tutarlari.mean(axis=1)\n",
    "findVadeOrtalama(train_df)#### Ortalama Vade Değişim Hızı"
   ]
  },
  {
   "cell_type": "markdown",
   "id": "fdf57737",
   "metadata": {},
   "source": [
    "#### Ortalama Vade Değişim Hızı"
   ]
  },
  {
   "cell_type": "code",
   "execution_count": null,
   "id": "5b916ebc",
   "metadata": {},
   "outputs": [],
   "source": [
    "def findVadeDegisim(dfs):\n",
    "    vade_sutunlari = [f'VADE_TUTAR_{i}' for i in range(12)]\n",
    "    vade_degisimleri = dfs[vade_sutunlari].diff(axis=1)  # Önceki ay ile karşılaştırarak değişim miktarlarını hesapla\n",
    "\n",
    "    # Ortalama vade tutarı değişim hızını hesapla\n",
    "    dfs['ORTALAMA_VADE_TUTARI_DEGISIM_HIZI'] = vade_degisimleri.mean(axis=1)\n",
    "findVadeDegisim(train_df)#### Ortalama Vade Değişim Hızı#### ÖdemeTutarı ile ilgili İşlemler"
   ]
  },
  {
   "cell_type": "markdown",
   "id": "86a688fd",
   "metadata": {},
   "source": [
    "#### ÖdemeTutarı ile ilgili İşlemler"
   ]
  },
  {
   "cell_type": "code",
   "execution_count": null,
   "id": "8089e3e8",
   "metadata": {},
   "outputs": [],
   "source": [
    "def findOdemeToplamı(dfs):\n",
    "    odeme_sutunlari = [f'ODEME_TUTAR_{i}' for i in range(12)]\n",
    "    odeme_tutarlari = dfs[odeme_sutunlari]\n",
    "    dfs['ODEME TOPLAMI'] = odeme_tutarlari.sum(axis=1)   \n",
    "findOdemeToplamı(train_df)"
   ]
  },
  {
   "cell_type": "markdown",
   "id": "66ca717f",
   "metadata": {},
   "source": [
    "#### Toplam Talep Sayısı Sütunu Oluşturma"
   ]
  },
  {
   "cell_type": "code",
   "execution_count": null,
   "id": "a8200d67",
   "metadata": {
    "scrolled": true
   },
   "outputs": [],
   "source": [
    "train_df[\"TOPLAM TALEP\"] = train_df[\"BES_AYRILMA_TALEP_ADET\"]+train_df[\"HAYAT_AYRILMA_TALEP_ADET\"]+train_df[\"BILGI_TALEP_ADET\"]+train_df[\"ODEMEME_TALEP_ADET\"]                  "
   ]
  },
  {
   "cell_type": "code",
   "execution_count": null,
   "id": "1d8ccea4",
   "metadata": {},
   "outputs": [],
   "source": [
    "train_df['Talep_Sayısı_Kategorisi'] = pd.cut(train_df['TOPLAM TALEP'], bins=[-1, 0, 1, 3, float('inf')], labels=['0', '1', '2-3', '4+'])"
   ]
  },
  {
   "cell_type": "markdown",
   "id": "089dacf3",
   "metadata": {},
   "source": [
    "#### Ekonomik Durum Sütunu Oluşturma"
   ]
  },
  {
   "cell_type": "markdown",
   "id": "d07e23ae",
   "metadata": {},
   "source": [
    "#### Meslek Grubu Oluşturma"
   ]
  },
  {
   "cell_type": "code",
   "execution_count": null,
   "id": "4d567765",
   "metadata": {},
   "outputs": [],
   "source": [
    "# Savcı, hakim, ve Hakim/Savcı diye bir şey var.\n",
    "# jobs = {\n",
    "#     \"Çalışmıyor\":[\"Öğrenci\",\"Ev Hanımı\",\"Emekli (Sosyal Güvenlik Kurumu Bilinmiyor)\",\"SSK-Sosyal Sigortalar Kurumu Emeklileri\",\n",
    "#                   \"Bağkur Emeklileri\",\"Emekli Sandığı Emeklileri\",\"Emekli\",\"İşsiz\",\"Emekli (Vakıf,Sandık v.b.)\",\"Çalışmıyor\",\n",
    "#                   \"Üniversite Öğrencisi\"],\n",
    "#     \"Emekli\": [\"Emekli (Sosyal Güvenlik Kurumu Bilinmiyor)\",\"SSK-Sosyal Sigortalar Kurumu Emeklileri\",\n",
    "#                   \"Bağkur Emeklileri\",\"Emekli Sandığı Emeklileri\",\"Emekli\",\"Emekli (Vakıf,Sandık v.b.)\"],\n",
    "    \n",
    "#     \"Teknoloji\":['Yazılımcı/Programcı/Analist', 'Mühendis','Teknisyen/Tekniker','Yazılımcı','Yazılım Geliştirme Uzmanı','Teknisyen'],\n",
    "#     \"Sağlık\":['Doktor','Eczacı',\"Sağlık Personeli\",\"Hekim\",\"Hemşire\",\"Veteriner Hekim\",\"Laborant\",\"Biyolog\",\"Ebe\",\"Diş Hekimi\"],\n",
    "    \n",
    "#     \"Kamu\":['Doktor',\"Öğretmen\",\"Polis\",\"Memur\",\"Akademisyen\",'Kamu Çalışanı',\"Hakim/Savcı\",\"Ordu Mensubu\",\"Subay\",\"Astsubay\",\n",
    "#             \"Büro Elemanı\",\"Ofis Elemanı\",\"Denetçi\",\"Müfettiş/Denetçi\",\"Emniyet Mensubu\",\"Uzman Erbaş\",\"Hakim\",\"Noter\",\"Din Görevlisi\",\n",
    "#             \"Bürokrat\",\"General\",\"Uzman Jandarma\",\"Savcı\",\"Amiral\"],\n",
    "#     \"Askeri\":[\"Ordu Mensubu\",\"Polis\",\"Subay\",\"Astsubay\",\"Emniyet Mensubu\",\"Uzman Erbaş\",\"General\",\"Uzman Jandarma\",\"Amiral\"],\n",
    "    \n",
    "#     \"Özel\":['Yazılımcı/Programcı/Analist', 'Mühendis','Teknisyen/Tekniker','Yazılımcı','Yazılım Geliştirme Uzmanı','Teknisyen',\n",
    "#             'Muhasebe', 'İşçi', 'Serbest Meslek', 'İşyeri Sahibi/Ortağı','Esnaf', 'Satış', 'Mimar','Banka',\n",
    "#             'Danışman', 'Hizmet Çalışanı','Sigorta', 'Test Uzmanı', 'Çiftçi',  'Terzi','Tacir ve Esnaf','Finans Sektörü Çalışan',\n",
    "#             'İş Adamı', 'Şoför', 'Satış/Pazarlama Çalışanı','Avukat', 'Tüccar','İletişim','Pazarlama', 'Profesyonel Meslek Mensupları',\n",
    "#             'Sanatçı', 'Mali Müşavir/Muhasebeci','Halkla İlişkiler', 'Medya', 'İş Analisti', 'Finans', 'Analist','Güvenlik Görevlisi',\n",
    "#             'Mali Müşavir','Aşçı','Yazar', 'CEO'  'Müteahhit', 'Reklamcı/Halka İlişkiler','Sporcu', \n",
    "#             'Şoför/Makine Operatörü', 'Medya Mensubu', 'Garson', 'Üst Düzey Yönetici', 'Sivil Pilot', 'Turizmci','Radyolog', \n",
    "#             'Departman Yöneticisi', 'Reklam', 'Bakıcı', 'Komi','Zanaatkar', 'Kimyager', 'Pilot/Kaptan','Antrenör','Takım/Ekip Lideri',\n",
    "#             'Emlakçı', 'Yönetim Kurulu Üyesi', 'Proje Yöneticisi', 'Barmen', 'Kuyumcu/Döviz Bürosu Çalışanı','Şair', 'Balıkçı'],\n",
    "    \n",
    "#     \"Ekonomi\":[\"Muhasebe\",\"Sigorta\",\"Banka\",\"Finans Sektörü Çalışan\",\"Mali Müşavir/Muhasebeci\",\"Finans\",\"Mali Müşavir\",\"Kuyumcu/Döviz Bürosu Çalışanı\"],\n",
    "#     \"Diğer\":[\"Diğer\",\"Bilinmiyor\",\"nan\"]\n",
    "# }\n",
    "# def find_jobGroup(job):\n",
    "#     for group, jobss in jobs.items():\n",
    "#         if job in jobss:\n",
    "#             return group\n",
    "#     return None  # Eğer meslek hiçbir bölge ile eşleşmezse\n",
    "# train_df['SEKTOR'] = train_df['PP_MESLEK'].apply(find_jobGroup)\n",
    "# train_df['SEKTOR']"
   ]
  },
  {
   "cell_type": "markdown",
   "id": "d2e9a6c2",
   "metadata": {},
   "source": [
    "### Non-Numeric Featurelar\n",
    "\n",
    "* Label\n",
    "* FLAG\n",
    "* PP_Meslek\n",
    "* SORU_YATIRIM_KARAKTERI_CVP\n",
    "* SORU_MEDENI_HAL_CVP\n",
    "* SORU_EGITIM_CVP"
   ]
  },
  {
   "cell_type": "markdown",
   "id": "8f90e7d8",
   "metadata": {},
   "source": [
    "## Kategorik Sütun Encodingi"
   ]
  },
  {
   "cell_type": "code",
   "execution_count": null,
   "id": "73baf174",
   "metadata": {
    "scrolled": false
   },
   "outputs": [],
   "source": [
    "train_df['FLAG'] = train_df['FLAG'].replace('MAYIS', 5)\n",
    "train_df['FLAG'] = train_df['FLAG'].replace('HAZIRAN', 6)\n",
    "train_df['FLAG'] = train_df['FLAG'].replace('TEMMUZ', 7)\n",
    "train_df['FLAG'] = train_df['FLAG'].replace('AGUSTOS', 8)\n",
    "train_df['FLAG'] = train_df['FLAG'].replace('EYLUL', 9)\n",
    "train_df['FLAG'] = train_df['FLAG'].replace('EKIM', 10)\n",
    "train_df"
   ]
  },
  {
   "cell_type": "markdown",
   "id": "750c83f6",
   "metadata": {},
   "source": [
    "### Dış Veri Ekleme"
   ]
  },
  {
   "cell_type": "markdown",
   "id": "b911f160",
   "metadata": {},
   "source": [
    "#### Enflasyon, Döviz"
   ]
  },
  {
   "cell_type": "code",
   "execution_count": null,
   "id": "ed1a96b9",
   "metadata": {
    "scrolled": false
   },
   "outputs": [],
   "source": [
    "# Verileri içeren metin tablosunu oluştur\n",
    "#11 61.98 3.28\n",
    "data = \"\"\"\n",
    "10 61.36 3.43\n",
    "09 61.53 4.75\n",
    "08 58.94 9.09\n",
    "07 47.83 9.49\n",
    "06 38.21 3.92\n",
    "05 39.59 0.04\n",
    "\"\"\"\n",
    "# StringIO kullanarak metin tablosunu oku ve DataFrame oluştur\n",
    "df = pd.read_csv(StringIO(data), sep='\\s+', header=None, names=['FLAG', 'Inflation', 'Value2'])\n",
    "df = df.drop(\"Value2\", axis = 1)\n",
    "df = df.sort_values(by='FLAG')\n",
    "df =df.reset_index()\n",
    "df = df.drop(\"index\", axis = 1)\n",
    "display(df)\n",
    "\n",
    "\n",
    "# 6\t11\t28.637082\t30.902518\n",
    "# 7\t12\t29.074857\t31.714886\n",
    "df2 = pd.read_excel(path+\"veri.xlsx\")\n",
    "df2 = df2.drop(df2.index[:40])\n",
    "df2 = df2.drop(df2.index[6:])\n",
    "df2 = df2.drop(columns=[\"TP DK GBP S YTL\",\"TP FG J0\",\"Tarih\"],axis = 1)\n",
    "df2 =df2.reset_index()\n",
    "df2 = df2.drop(\"index\", axis = 1)\n",
    "df2[\"FLAG\"] = 5 + df2.index \n",
    "display(df2)\n",
    "\n",
    "forecast_df = pd.DataFrame(index=[6, 7])\n",
    "for i in [\"TP DK USD S YTL\",\"TP DK EUR S YTL\",]:\n",
    "    data = df2[[i,\"FLAG\"]]\n",
    "    model = ARIMA(data[i], order=(1, 2, 1))  \n",
    "\n",
    "    # Modeli eğitme\n",
    "    fit_model = model.fit()\n",
    "\n",
    "    # Tahmin yapma\n",
    "    forecast = fit_model.forecast(steps=2)  # Gelecek 2 adım için tahmin yapılır\n",
    "\n",
    "    forecast_df[i] = forecast\n",
    "#     print(\"ARIMA Forecast:\", forecast)\n",
    "\n",
    "model = ARIMA(df[\"Inflation\"], order=(1, 2, 1))  \n",
    "\n",
    "# Modeli eğitme\n",
    "fit_model = model.fit()\n",
    "\n",
    "# Tahmin yapma\n",
    "forecast = fit_model.forecast(steps=2)  \n",
    "forecast_df[\"Inflation\"] = forecast\n",
    "print(\"ARIMA Forecast:\", forecast)\n",
    "display(forecast)\n",
    "\n",
    "# Sütunu DataFrame'in başına ekleme\n",
    "forecast_df.insert(0, 'FLAG', ['11','12'])\n",
    "df2['Inflation'] = df['Inflation'].iloc[:]\n",
    "df2 = pd.concat([df2, forecast_df])\n",
    "df2"
   ]
  },
  {
   "cell_type": "code",
   "execution_count": null,
   "id": "04674d48",
   "metadata": {
    "scrolled": true
   },
   "outputs": [],
   "source": [
    "train_df = pd.merge(train_df,df2,on='FLAG', how='left' )"
   ]
  },
  {
   "cell_type": "markdown",
   "id": "23be36c2",
   "metadata": {},
   "source": [
    "### NaN Handling"
   ]
  },
  {
   "cell_type": "code",
   "execution_count": null,
   "id": "74d300f9",
   "metadata": {},
   "outputs": [],
   "source": [
    "nan_counts = train_df.isna().sum()\n",
    "nan_counts[nan_counts > 0]"
   ]
  },
  {
   "cell_type": "code",
   "execution_count": null,
   "id": "bfa3ad05",
   "metadata": {},
   "outputs": [],
   "source": [
    "column_names_with_nan = nan_counts[nan_counts > 0].index.tolist()\n",
    "for col in column_names_with_nan:\n",
    "    print(col)\n",
    "    if(col not in [\"BOLGE\",\"YAS_GRUBU\",\"PP_MESLEK\",\"Talep_Sayısı_Kategorisi\",\"SORU_MEDENI_HAL_CVP\",\"SORU_EGITIM_CVP\"]):\n",
    "        train_df[col].fillna(-train_df[col].median(), inplace=True)"
   ]
  },
  {
   "cell_type": "code",
   "execution_count": null,
   "id": "cd0ce91d",
   "metadata": {},
   "outputs": [],
   "source": [
    "bins = [-101, 1000,10000,50000,100000,500000,1000000,10000000,1000000000000]\n",
    "\n",
    "train_df['SORU_GELIR_CVP'] = pd.cut(train_df['SORU_GELIR_CVP'], bins)\n",
    "\n",
    "train_df['SORU_GELIR_CVP'].value_counts()"
   ]
  },
  {
   "cell_type": "code",
   "execution_count": null,
   "id": "6fa654b3",
   "metadata": {},
   "outputs": [],
   "source": [
    "cols = [\"SORU_MEDENI_HAL_CVP\",\"SORU_EGITIM_CVP\",\"PP_MESLEK\"\n",
    "       ,\"YAS_GRUBU\",\"BOLGE\",\"PP_UYRUK\",\"SORU_GELIR_CVP\",\"Talep_Sayısı_Kategorisi\"]\n",
    "for col in cols  :\n",
    "    one_hot_encoded = pd.get_dummies(train_df[col])\n",
    "    one_hot_encoded = one_hot_encoded.astype(int)\n",
    "    train_df = pd.concat([train_df, one_hot_encoded], axis=1)\n",
    "    train_df = train_df.drop(col, axis=1,)"
   ]
  },
  {
   "cell_type": "code",
   "execution_count": null,
   "id": "2ae9a81c",
   "metadata": {},
   "outputs": [],
   "source": [
    "rg_cols = [\"SORU_EGITIM_RG\",\"SORU_GELIR_RG\",\"SORU_COCUK_SAYISI_RG\",\"SORU_MEDENI_HAL_RG\",\"SORU_EGITIM_RG\"]\n",
    "for col in rg_cols:\n",
    "    train_df[col]+= 11-train_df[\"FLAG\"]\n",
    "train_df = train_df.drop(\"FLAG\", axis =1)"
   ]
  },
  {
   "cell_type": "code",
   "execution_count": null,
   "id": "26ed3302",
   "metadata": {},
   "outputs": [],
   "source": [
    "train_df.columns = train_df.columns.astype(str)"
   ]
  },
  {
   "cell_type": "code",
   "execution_count": null,
   "id": "0da4cccc",
   "metadata": {},
   "outputs": [],
   "source": [
    "train_df.columns.tolist()"
   ]
  },
  {
   "cell_type": "markdown",
   "id": "7fa3ae4e",
   "metadata": {},
   "source": [
    "### Test Set"
   ]
  },
  {
   "cell_type": "code",
   "execution_count": null,
   "id": "4e2f0da0",
   "metadata": {
    "scrolled": false
   },
   "outputs": [],
   "source": [
    "test_df = pd.read_csv(path+\"test.csv\")\n",
    "test_df.head()"
   ]
  },
  {
   "cell_type": "code",
   "execution_count": null,
   "id": "17b96cf5",
   "metadata": {},
   "outputs": [],
   "source": [
    "test_df['PP_UYRUK'] = test_df['PP_UYRUK'].replace(turn_to_nation)"
   ]
  },
  {
   "cell_type": "code",
   "execution_count": null,
   "id": "2ada7e99",
   "metadata": {},
   "outputs": [],
   "source": [
    "test_df['SORU_GELIR_CVP'] = test_df['SORU_GELIR_CVP'].str.replace(',', '.').astype(float)"
   ]
  },
  {
   "cell_type": "code",
   "execution_count": null,
   "id": "51edca8b",
   "metadata": {
    "scrolled": false
   },
   "outputs": [],
   "source": [
    "nan_counts = test_df.isna().sum()\n",
    "nan_counts[nan_counts > 0]"
   ]
  },
  {
   "cell_type": "code",
   "execution_count": null,
   "id": "c745f969",
   "metadata": {
    "scrolled": true
   },
   "outputs": [],
   "source": [
    "test_df['BOLGE'] = test_df['IL'].apply(find_region)\n",
    "test_df['YAS_GRUBU'] = test_df['PP_YAS'].apply(find_ageGroup)\n",
    "findVadeOrtalama(test_df)#### Ortalama Vade Değişim Hızı\n",
    "findVadeDegisim(test_df)    \n",
    "findOdemeToplamı(test_df)\n",
    "test_df[\"TOPLAM TALEP\"] = test_df[\"BES_AYRILMA_TALEP_ADET\"]+test_df[\"HAYAT_AYRILMA_TALEP_ADET\"]+test_df[\"BILGI_TALEP_ADET\"]+test_df[\"ODEMEME_TALEP_ADET\"]                  \n",
    "test_df['Talep_Sayısı_Kategorisi'] = pd.cut(test_df['TOPLAM TALEP'], bins=[-1, 0, 1, 3, float('inf')], labels=['0', '1', '2-3', '4+'])"
   ]
  },
  {
   "cell_type": "code",
   "execution_count": null,
   "id": "7a949272",
   "metadata": {},
   "outputs": [],
   "source": [
    "test_df['FLAG'] = test_df['FLAG'].replace('KASIM', 11)\n",
    "test_df['FLAG'] = test_df['FLAG'].replace('ARALIK', 12)"
   ]
  },
  {
   "cell_type": "code",
   "execution_count": null,
   "id": "a1264476",
   "metadata": {},
   "outputs": [],
   "source": [
    "df3 = df2[6:]\n",
    "df3['FLAG'] = df3['FLAG'].astype('int64')\n",
    "df3"
   ]
  },
  {
   "cell_type": "code",
   "execution_count": null,
   "id": "93381ccf",
   "metadata": {},
   "outputs": [],
   "source": [
    "test_df = pd.merge(test_df,df3, on='FLAG', how='left' )\n",
    "test_df"
   ]
  },
  {
   "cell_type": "code",
   "execution_count": null,
   "id": "230582b4",
   "metadata": {},
   "outputs": [],
   "source": [
    "test_df= test_df.drop(columns=[\"SON_AY_KATKI_MIKTARI\",\"SON_AY_KATKI_ADET\",\n",
    "                               \"SON_CEYREK_KATKI_MIKTARI\",\"SON_CEYREK_KATKI_ADET\",\n",
    "                               \"SON_SENE_KATKI_MIKTARI\",\"SON_SENE_KATKI_ADET\",\n",
    "                               \"SORU_YATIRIM_KARAKTERI_CVP\",\"SORU_YATIRIM_KARAKTERI_RG\",\"FLAG\"])"
   ]
  },
  {
   "cell_type": "code",
   "execution_count": null,
   "id": "d7503b22",
   "metadata": {},
   "outputs": [],
   "source": [
    "nan_counts = test_df.isna().sum()\n",
    "nan_counts[nan_counts > 0]"
   ]
  },
  {
   "cell_type": "code",
   "execution_count": null,
   "id": "6ff0255f",
   "metadata": {
    "scrolled": true
   },
   "outputs": [],
   "source": [
    "column_names_with_nan = nan_counts[nan_counts > 0].index.tolist()\n",
    "for col in column_names_with_nan:\n",
    "    if(col not in [\"BOLGE\",\"YAS_GRUBU\",\"PP_MESLEK\",\"Talep_Sayısı_Kategorisi\",\"SORU_MEDENI_HAL_CVP\",\"SORU_EGITIM_CVP\"]):\n",
    "        test_df[col].fillna(-test_df[col].median(), inplace=True)"
   ]
  },
  {
   "cell_type": "code",
   "execution_count": null,
   "id": "2c9edd5c",
   "metadata": {},
   "outputs": [],
   "source": [
    "test_df = test_df.drop('MUSTERI_ID',axis = 1)\n",
    "test_df['Marriage Annulled'] = 0"
   ]
  },
  {
   "cell_type": "code",
   "execution_count": null,
   "id": "ee98eb72",
   "metadata": {},
   "outputs": [],
   "source": [
    "bins = [-101, 1000,10000,50000,100000,500000,1000000,10000000,1000000000000]\n",
    "\n",
    "test_df['SORU_GELIR_CVP'] = pd.cut(test_df['SORU_GELIR_CVP'], bins)\n",
    "test_df['SORU_GELIR_CVP'].value_counts()"
   ]
  },
  {
   "cell_type": "code",
   "execution_count": null,
   "id": "c7d89d0c",
   "metadata": {},
   "outputs": [],
   "source": [
    "cols = [\"SORU_MEDENI_HAL_CVP\",\"SORU_EGITIM_CVP\",\"PP_MESLEK\"\n",
    "       ,\"YAS_GRUBU\",\"BOLGE\",\"PP_UYRUK\",\"SORU_GELIR_CVP\",\"Talep_Sayısı_Kategorisi\"]\n",
    "for col in cols  :\n",
    "    one_hot_encoded = pd.get_dummies(test_df[col])\n",
    "    one_hot_encoded = one_hot_encoded.astype(int)\n",
    "    test_df = pd.concat([test_df, one_hot_encoded], axis=1)\n",
    "    test_df = test_df.drop(col, axis=1,)"
   ]
  },
  {
   "cell_type": "code",
   "execution_count": null,
   "id": "ecd72f1c",
   "metadata": {},
   "outputs": [],
   "source": [
    "test_df.columns = test_df.columns.astype(str)"
   ]
  },
  {
   "cell_type": "code",
   "execution_count": null,
   "id": "3028fbfa",
   "metadata": {},
   "outputs": [],
   "source": [
    "test_df.isna().sum().tolist()"
   ]
  },
  {
   "cell_type": "markdown",
   "id": "5792a31d",
   "metadata": {},
   "source": [
    "## Modelling"
   ]
  },
  {
   "cell_type": "code",
   "execution_count": null,
   "id": "9fa9f2dc",
   "metadata": {},
   "outputs": [],
   "source": [
    "from sklearn.ensemble import RandomForestClassifier\n",
    "from sklearn.model_selection import train_test_split\n",
    "from sklearn.metrics import accuracy_score\n",
    "\n",
    "import xgboost as xgb\n",
    "from sklearn.preprocessing import LabelEncoder\n",
    "from sklearn.preprocessing import MinMaxScaler, StandardScaler\n",
    "from imblearn.over_sampling import SMOTE"
   ]
  },
  {
   "cell_type": "code",
   "execution_count": null,
   "id": "c78655c4",
   "metadata": {
    "scrolled": true
   },
   "outputs": [],
   "source": [
    "UA_samples = train_df[(train_df['LABEL'] == 'UA') ].sample(n=130000, random_state=42)\n",
    "\n",
    "# Diğer sınıflardaki örnekler\n",
    "other_samples = train_df[train_df['LABEL'] != 'UA']\n",
    "\n",
    "# Yeni veri setini birleştirelim\n",
    "balanced_data = pd.concat([UA_samples, other_samples])\n",
    "\n",
    "X = balanced_data.drop(columns = ['LABEL','MUSTERI_ID'], axis=1)\n",
    "y = balanced_data['LABEL']\n",
    "\n",
    "unique_values, counts = np.unique(y, return_counts=True)\n",
    "\n",
    "# Sonuçları ekrana yazdıralım\n",
    "for value, count in zip(unique_values, counts):\n",
    "    print(f\"{value}: {count} adet\")"
   ]
  },
  {
   "cell_type": "code",
   "execution_count": null,
   "id": "16d54b33",
   "metadata": {},
   "outputs": [],
   "source": [
    "# SMOTE'u kullanarak synthetic data generation yapalım\n",
    "smote = SMOTE(sampling_strategy={'HU06':5822 , 'HU07':6272, 'HU11': 3541, 'HU12': 3824, 'HU14': 10754, 'HU15': 3585, 'HU19': 4500, 'UA': 130000},k_neighbors=3, random_state=42)\n",
    "X_resampled, y_resampled = smote.fit_resample(X, y)\n",
    "synthetic_data = pd.concat([pd.DataFrame(X_resampled, columns=X.columns), pd.DataFrame(y_resampled, columns=['LABEL'])], axis=1)"
   ]
  },
  {
   "cell_type": "code",
   "execution_count": null,
   "id": "7203db11",
   "metadata": {
    "scrolled": true
   },
   "outputs": [],
   "source": [
    "synthetic_data"
   ]
  },
  {
   "cell_type": "code",
   "execution_count": null,
   "id": "51e4294c",
   "metadata": {
    "scrolled": true
   },
   "outputs": [],
   "source": [
    "# Veri setini ayırma\n",
    "X = synthetic_data.drop(columns = ['LABEL'], axis=1)  # Bağımsız değişkenler\n",
    "label_encoder = LabelEncoder()\n",
    "y = label_encoder.fit_transform(synthetic_data['LABEL'])  # Bağımlı değişken\n",
    "# y = synthetic_data['LABEL'] # Bağımlı değişken\n",
    "# test_df = test_df[X.columns]\n",
    "scaler = MinMaxScaler()\n",
    "X = scaler.fit_transform(X)\n",
    "# RandomForestClassifier modelini tanımlama ve eğitme\n",
    "# class_weights = {'HU06': 5, 'HU07':51, 'HU11': 10, 'HU12': 10, 'HU14': 1, 'HU15': 10, 'HU19': 10, 'UA': 0.00001}"
   ]
  },
  {
   "cell_type": "code",
   "execution_count": null,
   "id": "6a5a75dc",
   "metadata": {},
   "outputs": [],
   "source": [
    "unique_values, counts = np.unique(y, return_counts=True)\n",
    "for value, count in zip(unique_values, counts):\n",
    "    print(f\"{value}: {count} adet\")"
   ]
  },
  {
   "cell_type": "code",
   "execution_count": null,
   "id": "cf1fb759",
   "metadata": {},
   "outputs": [],
   "source": [
    "X_egitim, X_test, y_egitim, y_test = train_test_split(X, y, test_size=0.1, random_state=42,stratify=y)"
   ]
  },
  {
   "cell_type": "code",
   "execution_count": null,
   "id": "535ddfa6",
   "metadata": {},
   "outputs": [],
   "source": [
    "def custom_f1_score(y_true, y_pred):\n",
    "    # F1 skorunu hesapla\n",
    "    f1 = f1_score(y_true, y_pred, average=None)\n",
    "    \n",
    "    # Sınıf katsayıları\n",
    "    class_coefficients = {\n",
    "        'HU06': 0.0385,\n",
    "        'HU07': 0.0328,\n",
    "        'HU11': 0.2791,\n",
    "        'HU12': 0.1812,\n",
    "        'HU14': 0.0113,\n",
    "        'HU15': 0.2952,\n",
    "        'HU19': 0.1614,\n",
    "        'UA': 0.0001\n",
    "    }\n",
    "    \n",
    "    # Sınıf bazında F1 skorlarını katsayılarla çarp\n",
    "    weighted_f1 = [f1[i] * class_coefficients[class_] for i, class_ in enumerate(class_coefficients.keys())]\n",
    "    \n",
    "    # Toplam ağırlıklı F1 skorunu döndür\n",
    "    return sum(weighted_f1)"
   ]
  },
  {
   "cell_type": "code",
   "execution_count": null,
   "id": "d34b769a",
   "metadata": {},
   "outputs": [],
   "source": [
    "xgb_model = XGBClassifier()\n",
    "cat_model = CatBoostClassifier()\n",
    "param_grid = {\n",
    "    'max_depth': [5,7,9,],\n",
    "    'learning_rate': [0.1, 0.2,0.3],\n",
    "}\n",
    "\n",
    "custom_scorer = make_scorer(custom_f1_score)\n",
    "\n",
    "# GridSearchCV'yi tanımlayın ve özel skorlama fonksiyonunu kullanın\n",
    "grid_search = GridSearchCV(estimator=xgb_model, param_grid=param_grid, scoring=custom_scorer, cv=3)\n",
    "\n",
    "# GridSearchCV'yi uygulayın\n",
    "grid_search.fit(X, y)"
   ]
  },
  {
   "cell_type": "code",
   "execution_count": null,
   "id": "31184575",
   "metadata": {},
   "outputs": [],
   "source": [
    "print(\"Best parameters:\", grid_search.best_params_)\n",
    "print(\"Best score:\", grid_search.best_score_)"
   ]
  },
  {
   "cell_type": "code",
   "execution_count": null,
   "id": "f3a8eac8",
   "metadata": {},
   "outputs": [],
   "source": [
    "model = CatBoostClassifier(learning_rate=0.25, max_depth=7,iterations=1000)\n",
    "model.fit(X_egitim, y_egitim)\n",
    "\n",
    "# Test seti üzerinde tahmin yapma\n",
    "# test_df = scaler.fit_transform(test_df)\n",
    "tahminler = model.predict(X_test)"
   ]
  },
  {
   "cell_type": "code",
   "execution_count": null,
   "id": "4e1010da",
   "metadata": {
    "scrolled": true
   },
   "outputs": [],
   "source": [
    "print(custom_f1_score(tahminler,y_test))"
   ]
  },
  {
   "cell_type": "code",
   "execution_count": null,
   "id": "e9a209e5",
   "metadata": {},
   "outputs": [],
   "source": [
    "model = CatBoostClassifier(learning_rate=0.25, max_depth=7,n_estimators =1000)\n",
    "model.fit(X, y,verbose=True)\n",
    "\n",
    "# Test seti üzerinde tahmin yapma\n",
    "test_df = scaler.fit_transform(test_df)\n",
    "tahminler = model.predict(test_df)"
   ]
  },
  {
   "cell_type": "code",
   "execution_count": null,
   "id": "6dc7f744",
   "metadata": {},
   "outputs": [],
   "source": [
    "kategori_numerik_dict = dict(zip(label_encoder.classes_, label_encoder.transform(label_encoder.classes_)))\n",
    "\n",
    "# Sözlüğü ekrana yazdırma\n",
    "print(\"Kategori -> Numerik Değer:\")\n",
    "for kategori, numerik_değer in kategori_numerik_dict.items():\n",
    "    print(f\"{kategori} -> {numerik_değer}\")"
   ]
  },
  {
   "cell_type": "code",
   "execution_count": null,
   "id": "63b46cbd",
   "metadata": {},
   "outputs": [],
   "source": [
    "unique_values, counts = np.unique(y, return_counts=True)\n",
    "\n",
    "# Sonuçları ekrana yazdıralım\n",
    "for value, count in zip(unique_values, counts):\n",
    "    print(f\"{value}: {count} adet\")"
   ]
  },
  {
   "cell_type": "code",
   "execution_count": null,
   "id": "079ad2b5",
   "metadata": {},
   "outputs": [],
   "source": [
    "result_df = pd.read_csv(path+\"sample_submission.csv\")\n",
    "result_df[\"LABEL\"] = tahminler\n",
    "\n",
    "label_dict = {\n",
    "    0: \"HU06\",\n",
    "    1: \"HU07\",\n",
    "    2: \"HU11\",\n",
    "    3: \"HU12\",\n",
    "    4: \"HU14\",\n",
    "    5: \"HU15\",\n",
    "    6: \"HU19\",\n",
    "    7: \"UA\"\n",
    "}\n",
    "\n",
    "# \"LABEL\" sütununu değiştirme\n",
    "result_df[\"LABEL\"] = result_df[\"LABEL\"].map(label_dict)\n",
    "\n",
    "result_df.to_csv('C:\\\\Users\\\\ACER\\\\Desktop\\\\submission.csv', index=False)"
   ]
  }
 ],
 "metadata": {
  "kernelspec": {
   "display_name": "Python 3",
   "language": "python",
   "name": "python3"
  },
  "language_info": {
   "codemirror_mode": {
    "name": "ipython",
    "version": 3
   },
   "file_extension": ".py",
   "mimetype": "text/x-python",
   "name": "python",
   "nbconvert_exporter": "python",
   "pygments_lexer": "ipython3",
   "version": "3.8.8"
  }
 },
 "nbformat": 4,
 "nbformat_minor": 5
}
